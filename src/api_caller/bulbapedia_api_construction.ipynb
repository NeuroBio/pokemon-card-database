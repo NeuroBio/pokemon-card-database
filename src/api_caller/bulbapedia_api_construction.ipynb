{
 "cells": [
  {
   "cell_type": "code",
   "execution_count": 558,
   "id": "59c7a672",
   "metadata": {},
   "outputs": [],
   "source": [
    "import requests\n",
    "import re\n",
    "import csv\n",
    "base_url = 'https://bulbapedia.bulbagarden.net/w/api.php'\n",
    "params = {\n",
    "    'action': 'parse',\n",
    "    'prop': 'sections',\n",
    "    'format': 'json',\n",
    "    'section': 3,\n",
    "    'prop': 'wikitext'\n",
    "}"
   ]
  },
  {
   "cell_type": "code",
   "execution_count": 574,
   "id": "d9629586",
   "metadata": {},
   "outputs": [],
   "source": [
    "def make_csv(setName, params):\n",
    "    params['page'] = f\"{setName} (TCG)\"\n",
    "    \n",
    "    # controlling for inconsitencies in bulbapedia\n",
    "    if setName == 'Expedition':\n",
    "        params['page'] = f\"{setName} Base Set (TCG)\"\n",
    "        \n",
    "    try:\n",
    "        res = requests.get(base_url, params=params).json()['parse']['wikitext']['*']\n",
    "    except:\n",
    "        print(f\"Cound not find set {setName}.\")\n",
    "        return\n",
    "    \n",
    "    card_entries = html_to_stringlist(res)\n",
    "    cards = [row_to_data(card, setName) for card in card_entries]\n",
    "    \n",
    "    with open(f\"{setName}.csv\", 'w', newline='') as csvfile:\n",
    "        writer = csv.writer(csvfile, delimiter=',')\n",
    "        for card in cards:\n",
    "            writer.writerow(card.values())\n",
    "    print(f\"Finished writing csv for set {setName}.\")"
   ]
  },
  {
   "cell_type": "code",
   "execution_count": 571,
   "id": "cbed9720",
   "metadata": {},
   "outputs": [],
   "source": [
    "def html_to_stringlist(response):\n",
    "    # remove initial html but looking for col-2 when followed by col-2\n",
    "    # removing the lookahead returns the japanese set\n",
    "    res = re.sub(r'[\\s\\S]+\\{{col-2}}\\n(?=[\\s\\S]+{{col-2}})', '', response)\n",
    "    \n",
    "    #catch cases where there is no japanese equiv\n",
    "    res = re.sub('==Set list==\\n', '', res)\n",
    "    \n",
    "    # remove footer html\n",
    "    res = re.sub(r'\\n{{Setlist/nmfooter[\\s\\S]+', '', res) \n",
    " \n",
    "    # split rows into entries\n",
    "    res = res.split('\\n')\n",
    "    # remove header\n",
    "    res.pop(0)\n",
    "    return res"
   ]
  },
  {
   "cell_type": "code",
   "execution_count": 572,
   "id": "3f89ba0c",
   "metadata": {},
   "outputs": [],
   "source": [
    "def row_to_data(row, setName):\n",
    "    try:\n",
    "        # get the element after the set name bounded by ||\n",
    "        card_title = re.search(rf'(?<={setName}\\|)[^\\|]+', row).group(0)\n",
    "    except:\n",
    "        # this is why consistent formatting matters\n",
    "        try:\n",
    "            # first encountered in Gym Heroes\n",
    "            card_title = re.search(rf'(?:{setName} \\d+\\)\\|)([^\\|\\]]+)', row).group(1)\n",
    "        except:\n",
    "            # first encountered in Neo Genesis\n",
    "            print(row)\n",
    "            card_title = re.search(r'(?<=TCG\\|)[^\\|\\}]+', row).group(0)\n",
    "        \n",
    "    try:\n",
    "        # get the element following [number]}}|\n",
    "        card_type = re.search(r'(?<=\\d}}\\|)[^|]+(?:|)', row).group(0)   \n",
    "    except:\n",
    "        # this is why consistent formtting matters\n",
    "        try:\n",
    "            # first encountered in Gym Heroes\n",
    "            card_type = re.search(r'(?<=\\]\\]\\|)[^|]+(?:|)', row).group(0) \n",
    "        except:\n",
    "            # first encountered in Neo Genesis\n",
    "            print(row)\n",
    "            card_type = re.search(r'(?<=\\}\\}\\|)[^|]+(?:|)', row).group(0)\n",
    "    \n",
    "    # get the last element bounded by | and ending in }+\n",
    "    # one or more } is set as the ending, because there are\n",
    "    # format issues is some of the tables, e.g. Team Rocket\n",
    "    # also allow for spaces as in Gym Challenge\n",
    "    card_rarity = re.search(r'(?<=\\|)[^|}]+(?=}+\\s*$)', row).group(0)\n",
    "    # handle the nidorans     \n",
    "    card_title = card_title.replace('♂', '(m)')\n",
    "    card_title = card_title.replace('♀', '(f)')\n",
    "    \n",
    "    # convert card color type to pokemon\n",
    "    if card_type not in ['Energy', 'Trainer']:\n",
    "        card_type = 'Pokémon'\n",
    "    # convert energy with rarity to special energy\n",
    "    elif card_type == 'Energy' and card_rarity != 'None':\n",
    "        card_type = 'Special Energy'\n",
    "    \n",
    "    # catch secret rares\n",
    "    printNums = re.search(r'(?:|)(\\d+)/(\\d+)(?:|)', row)\n",
    "    if int(printNums.group(1)) > int(printNums.group(2)):\n",
    "        card_rarity = 'Secret Rare'\n",
    "    return {\n",
    "        'card_title': card_title,\n",
    "        'card_type': card_type,\n",
    "        'card_rarity': card_rarity }"
   ]
  },
  {
   "cell_type": "code",
   "execution_count": 576,
   "id": "b634626c",
   "metadata": {},
   "outputs": [
    {
     "name": "stdout",
     "output_type": "stream",
     "text": [
      "Fetch which set?Neo Destiny\n",
      "Finished writing csv for set Neo Destiny.\n"
     ]
    }
   ],
   "source": [
    "setName = input('Fetch which set?')\n",
    "make_csv(setName, params)"
   ]
  },
  {
   "cell_type": "code",
   "execution_count": null,
   "id": "51710368",
   "metadata": {},
   "outputs": [],
   "source": []
  }
 ],
 "metadata": {
  "kernelspec": {
   "display_name": "Python 3",
   "language": "python",
   "name": "python3"
  },
  "language_info": {
   "codemirror_mode": {
    "name": "ipython",
    "version": 3
   },
   "file_extension": ".py",
   "mimetype": "text/x-python",
   "name": "python",
   "nbconvert_exporter": "python",
   "pygments_lexer": "ipython3",
   "version": "3.7.10"
  }
 },
 "nbformat": 4,
 "nbformat_minor": 5
}
